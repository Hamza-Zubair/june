{
 "cells": [
  {
   "cell_type": "code",
   "execution_count": 1,
   "id": "e2bb555c",
   "metadata": {},
   "outputs": [],
   "source": [
    "import pandas as pd\n",
    "import re"
   ]
  },
  {
   "cell_type": "code",
   "execution_count": 2,
   "id": "36712442",
   "metadata": {},
   "outputs": [],
   "source": [
    "estonia_fires = pd.read_csv(r'estonia_county_firecount.csv')"
   ]
  },
  {
   "cell_type": "code",
   "execution_count": 3,
   "id": "062de65a",
   "metadata": {},
   "outputs": [],
   "source": [
    "df = estonia_fires.copy(deep=True)"
   ]
  },
  {
   "cell_type": "code",
   "execution_count": 4,
   "id": "a8c4b36c",
   "metadata": {},
   "outputs": [
    {
     "data": {
      "text/html": [
       "<div>\n",
       "<style scoped>\n",
       "    .dataframe tbody tr th:only-of-type {\n",
       "        vertical-align: middle;\n",
       "    }\n",
       "\n",
       "    .dataframe tbody tr th {\n",
       "        vertical-align: top;\n",
       "    }\n",
       "\n",
       "    .dataframe thead th {\n",
       "        text-align: right;\n",
       "    }\n",
       "</style>\n",
       "<table border=\"1\" class=\"dataframe\">\n",
       "  <thead>\n",
       "    <tr style=\"text-align: right;\">\n",
       "      <th></th>\n",
       "      <th>Maakond</th>\n",
       "      <th>Aasta</th>\n",
       "      <th>Hukkunuid</th>\n",
       "      <th>Hoone liik</th>\n",
       "      <th>Tekkepõhjus</th>\n",
       "      <th>Kuu</th>\n",
       "      <th>building_type</th>\n",
       "      <th>Cause_code</th>\n",
       "      <th>Cause</th>\n",
       "    </tr>\n",
       "  </thead>\n",
       "  <tbody>\n",
       "    <tr>\n",
       "      <th>0</th>\n",
       "      <td>Võru maakond</td>\n",
       "      <td>2010</td>\n",
       "      <td>2</td>\n",
       "      <td>eluhoone</td>\n",
       "      <td>102 Suitsetamisel</td>\n",
       "      <td>1</td>\n",
       "      <td>Residential</td>\n",
       "      <td></td>\n",
       "      <td></td>\n",
       "    </tr>\n",
       "    <tr>\n",
       "      <th>1</th>\n",
       "      <td>Valga maakond</td>\n",
       "      <td>2010</td>\n",
       "      <td>1</td>\n",
       "      <td>eluhoone</td>\n",
       "      <td>601 Kindlaks tegemata põhjus</td>\n",
       "      <td>1</td>\n",
       "      <td>Residential</td>\n",
       "      <td></td>\n",
       "      <td></td>\n",
       "    </tr>\n",
       "  </tbody>\n",
       "</table>\n",
       "</div>"
      ],
      "text/plain": [
       "         Maakond  Aasta  Hukkunuid Hoone liik                   Tekkepõhjus  \\\n",
       "0   Võru maakond   2010          2   eluhoone             102 Suitsetamisel   \n",
       "1  Valga maakond   2010          1   eluhoone  601 Kindlaks tegemata põhjus   \n",
       "\n",
       "   Kuu building_type Cause_code Cause  \n",
       "0    1   Residential                   \n",
       "1    1   Residential                   "
      ]
     },
     "execution_count": 4,
     "metadata": {},
     "output_type": "execute_result"
    }
   ],
   "source": [
    "df['building_type'] = 'Non residential'\n",
    "df['Cause_code'] = ''\n",
    "df['Cause'] = ''\n",
    "\n",
    "# conditional check, can be np.select(condition,values) or .map(using dictionary)\n",
    "df.loc[df['Hoone liik'] == 'eluhoone', 'building_type'] = 'Residential'\n",
    "df.head(2)"
   ]
  },
  {
   "cell_type": "code",
   "execution_count": 5,
   "id": "4cd7b137",
   "metadata": {},
   "outputs": [],
   "source": [
    "# string splitting and expansion\n",
    "df['Cause_code'] = df['Tekkepõhjus'].str.split(' ', expand=True)[0]"
   ]
  },
  {
   "cell_type": "code",
   "execution_count": 6,
   "id": "607151f1",
   "metadata": {},
   "outputs": [],
   "source": [
    "# combining the str split(maxsplit1) and replace methods we can find and replace the substrings into new col using chaining method\n",
    "df['Cause'] = df['Tekkepõhjus'].str.split(' ', 1, expand=True)[1].str.replace('Suitsetamisel', 'smoking')"
   ]
  },
  {
   "cell_type": "code",
   "execution_count": 7,
   "id": "41e34fa9",
   "metadata": {},
   "outputs": [],
   "source": [
    "# replacing special character\n",
    "df['Cause']=df['Cause'].str.replace('õ', 'o', regex=True)"
   ]
  },
  {
   "cell_type": "code",
   "execution_count": null,
   "id": "e6458d47",
   "metadata": {},
   "outputs": [],
   "source": []
  },
  {
   "cell_type": "code",
   "execution_count": null,
   "id": "558b7d3a",
   "metadata": {},
   "outputs": [],
   "source": []
  },
  {
   "cell_type": "code",
   "execution_count": null,
   "id": "5d58f506",
   "metadata": {},
   "outputs": [],
   "source": [
    "# re.findall     to find all matches of a pattern\n",
    "# re.split       to split the string at each match\n",
    "# re.sub         to replace the match pattern with new string\n",
    "\n",
    "# re.search      \n",
    "# re.match"
   ]
  },
  {
   "cell_type": "code",
   "execution_count": null,
   "id": "31a3bcce",
   "metadata": {},
   "outputs": [],
   "source": [
    "# REGEX META CHARACTERS, metacharacters \n",
    "# \\d            to get digit\n",
    "# \\D            to get non digit\n",
    "# \\w            to get word\n",
    "# \\W            to get non-word like $ sign\n",
    "# \\s            to get whitespace\n",
    "# \\S            to get non whitespace\n",
    "\n",
    "# Special Characters\n",
    "# .            to match any characters except newline\n",
    "# ^            to match only first occuring character\n",
    "# \\            to escape the special characters\n",
    "# |            to use as OR operator\n",
    "# [ ]          to use  OR operator similar to previous\n",
    "\n",
    "# Greedy Quantifiers, work only for the imediate left one\n",
    "# {}            to quantify the repetition of metacharacter\n",
    "# +             to use for character appearing one or more time\n",
    "# *             to use for character appearing zero or more times\n",
    "# ?             to use for character apperaing zero or one time only\n",
    "\n",
    "# Non Greedy Quantifier\n",
    "# Append ?      to a greedy quantifier to make it non greedy quantifier\n",
    "\n",
    "# Grouping the regex\n",
    "# ()           to capture the group\n",
    "\n",
    "# Positive lookahead \n",
    "# (?=) makes sure that first part of the expression is followed by the lookahead expression. \n",
    "\n",
    "# Positive lookbehind \n",
    "# (?<=) returns all matches that are preceded by the specified pattern."
   ]
  },
  {
   "cell_type": "code",
   "execution_count": null,
   "id": "2cf2b04b",
   "metadata": {},
   "outputs": [],
   "source": []
  }
 ],
 "metadata": {
  "kernelspec": {
   "display_name": "Python 3 (ipykernel)",
   "language": "python",
   "name": "python3"
  },
  "language_info": {
   "codemirror_mode": {
    "name": "ipython",
    "version": 3
   },
   "file_extension": ".py",
   "mimetype": "text/x-python",
   "name": "python",
   "nbconvert_exporter": "python",
   "pygments_lexer": "ipython3",
   "version": "3.10.5"
  }
 },
 "nbformat": 4,
 "nbformat_minor": 5
}
